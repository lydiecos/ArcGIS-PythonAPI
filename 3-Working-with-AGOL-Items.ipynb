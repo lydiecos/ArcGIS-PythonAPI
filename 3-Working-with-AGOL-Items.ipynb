{
 "cells": [
  {
   "cell_type": "markdown",
   "metadata": {},
   "source": [
    "# Working with AGOL items with the ArcGIS Python API\n",
    "Now that we've covered how to connect to AGOL and find specific datasets, we'll now examine how we access these data as various programming objects and what we can do with those object. \n",
    "\n",
    "We'll start where the last notebooks left of: working with the [Census Tract data](db3f9c8728dd44e4ad455e0c27a85eea) (item ID = `db3f9c8728dd44e4ad455e0c27a85eea`. \n",
    "\n",
    "#### Resources:\n",
    "* https://developers.arcgis.com/python/guide/working-with-feature-layers-and-features/"
   ]
  },
  {
   "cell_type": "markdown",
   "metadata": {},
   "source": [
    "### Step 1. Connecting to AGOL and fetching the data item"
   ]
  },
  {
   "cell_type": "code",
   "execution_count": 1,
   "metadata": {},
   "outputs": [],
   "source": [
    "#Import the GIS object and connect (this time anonymously)\n",
    "from arcgis import GIS\n",
    "gis = GIS()"
   ]
  },
  {
   "cell_type": "code",
   "execution_count": 2,
   "metadata": {},
   "outputs": [],
   "source": [
    "#Fetch the census tract data from its item ID\n",
    "tractsItem = gis.content.get('db3f9c8728dd44e4ad455e0c27a85eea')"
   ]
  },
  {
   "cell_type": "code",
   "execution_count": 3,
   "metadata": {},
   "outputs": [
    {
     "data": {
      "text/html": [
       "<div class=\"item_container\" style=\"height: auto; overflow: hidden; border: 1px solid #cfcfcf; border-radius: 2px; background: #f6fafa; line-height: 1.21429em; padding: 10px;\">\n",
       "                    <div class=\"item_left\" style=\"width: 210px; float: left;\">\n",
       "                       <a href='https://www.arcgis.com/home/item.html?id=db3f9c8728dd44e4ad455e0c27a85eea' target='_blank'>\n",
       "                        <img src='https://www.arcgis.com/sharing/rest//content/items/db3f9c8728dd44e4ad455e0c27a85eea/info/thumbnail/thumbnail1619720616926.jpeg' class=\"itemThumbnail\">\n",
       "                       </a>\n",
       "                    </div>\n",
       "\n",
       "                    <div class=\"item_right\"     style=\"float: none; width: auto; overflow: hidden;\">\n",
       "                        <a href='https://www.arcgis.com/home/item.html?id=db3f9c8728dd44e4ad455e0c27a85eea' target='_blank'><b>USA Census Tract Areas</b>\n",
       "                        </a>\n",
       "                        <br/>U.S. Census Tracts provides the boundaries and 2010 U.S. Census demographic information for the Census tracts of the United States. The boundaries are consistent with the county, state, and block group datasets.<img src='https://www.arcgis.com/home/js/jsapi/esri/css/images/item_type_icons/featureshosted16.png' style=\"vertical-align:middle;\">Feature Layer Collection by esri_dm\n",
       "                        <br/>Last Modified: August 18, 2021\n",
       "                        <br/>3 comments, 895,571 views\n",
       "                    </div>\n",
       "                </div>\n",
       "                "
      ],
      "text/plain": [
       "<Item title:\"USA Census Tract Areas\" type:Feature Layer Collection owner:esri_dm>"
      ]
     },
     "execution_count": 3,
     "metadata": {},
     "output_type": "execute_result"
    }
   ],
   "source": [
    "#Display the item\n",
    "tractsItem"
   ]
  },
  {
   "cell_type": "code",
   "execution_count": 4,
   "metadata": {},
   "outputs": [
    {
     "data": {
      "text/plain": [
       "arcgis.gis.Item"
      ]
     },
     "execution_count": 4,
     "metadata": {},
     "output_type": "execute_result"
    }
   ],
   "source": [
    "#Reveal the data type\n",
    "type(tractsItem)"
   ]
  },
  {
   "cell_type": "code",
   "execution_count": 5,
   "metadata": {},
   "outputs": [
    {
     "data": {
      "text/plain": [
       "'Feature Service'"
      ]
     },
     "execution_count": 5,
     "metadata": {},
     "output_type": "execute_result"
    }
   ],
   "source": [
    "#Reveal the type of Item\n",
    "tractsItem.type"
   ]
  },
  {
   "cell_type": "markdown",
   "metadata": {},
   "source": [
    "---\n",
    "►  ***Knowledge check*** What is the item type for the item with the ID `427c34604a76466ba001fbc80817082a`"
   ]
  },
  {
   "cell_type": "code",
   "execution_count": 6,
   "metadata": {},
   "outputs": [
    {
     "data": {
      "text/plain": [
       "arcgis.gis.Item"
      ]
     },
     "execution_count": 6,
     "metadata": {},
     "output_type": "execute_result"
    }
   ],
   "source": [
    "#Show the type of item 427c34604a76466ba001fbc80817082a\n",
    "type(gis.content.get('427c34604a76466ba001fbc80817082a'))"
   ]
  },
  {
   "cell_type": "markdown",
   "metadata": {},
   "source": [
    "### Step 2. Exploring the item returned\n",
    "The result we obtained is a generic AGOL \"Item\" ([Reference](https://developers.arcgis.com/python/api-reference/arcgis.gis.toc.html#item)). The item we retrieved happens to represent a **Feature Service** item (as seen above), and as such it has defined properties and methods that we can access programatically. \n",
    "\n",
    "To see what these are, we can retrieve the API reference on the Feature Layer object:<br>\n",
    "https://developers.arcgis.com/python/api-reference/arcgis.features.toc.html#featurelayer\n",
    "\n",
    "What's important to understand here is the nestedness of objects served on AGOL. And this can be seen by accessing our object's REST endpoint:"
   ]
  },
  {
   "cell_type": "code",
   "execution_count": 7,
   "metadata": {},
   "outputs": [
    {
     "name": "stdout",
     "output_type": "stream",
     "text": [
      "https://services.arcgis.com/P3ePLMYs2RVChkJx/arcgis/rest/services/USA_Census_Tract_Areas_analysis_trim/FeatureServer\n"
     ]
    }
   ],
   "source": [
    "#Show the URL of the feature server's REST endpoint\n",
    "print(tractsItem.url)"
   ]
  },
  {
   "cell_type": "markdown",
   "metadata": {},
   "source": [
    "Click on the above link to access its REST endpoint. \n",
    "\n",
    "There you see indeed that it is a Feature Server. You also can see what **Feature Layers** are contained in this feature service:\n",
    "\n",
    ">**Layers:**\n",
    ">* [tracts_trim](https://services.arcgis.com/P3ePLMYs2RVChkJx/ArcGIS/rest/services/USA_Census_Tract_Areas_analysis_trim/FeatureServer/0) (0)"
   ]
  },
  {
   "cell_type": "markdown",
   "metadata": {},
   "source": [
    "This indicates that we have just one feature layer associated with the feature service. We can reveal this via the ArcGIS Python API via the Feature Layers `layers` property:"
   ]
  },
  {
   "cell_type": "code",
   "execution_count": 8,
   "metadata": {},
   "outputs": [
    {
     "data": {
      "text/plain": [
       "[<FeatureLayer url:\"https://services.arcgis.com/P3ePLMYs2RVChkJx/arcgis/rest/services/USA_Census_Tract_Areas_analysis_trim/FeatureServer/0\">]"
      ]
     },
     "execution_count": 8,
     "metadata": {},
     "output_type": "execute_result"
    }
   ],
   "source": [
    "#Extract the layer(s) included with this feature service\n",
    "tractLayers = tractsItem.layers\n",
    "tractLayers"
   ]
  },
  {
   "cell_type": "markdown",
   "metadata": {},
   "source": [
    "This returns a list with just one layer in it -- just as we found in the browser based exploration. Now we extract that layer into its own coding object and reveal the data type of this object. "
   ]
  },
  {
   "cell_type": "code",
   "execution_count": 9,
   "metadata": {},
   "outputs": [
    {
     "data": {
      "text/plain": [
       "arcgis.features.layer.FeatureLayer"
      ]
     },
     "execution_count": 9,
     "metadata": {},
     "output_type": "execute_result"
    }
   ],
   "source": [
    "#Pull the one layer item associated with the service to a new variable\n",
    "tractsLayer = tractLayers[0]\n",
    "type(tractsLayer)"
   ]
  },
  {
   "cell_type": "markdown",
   "metadata": {},
   "source": [
    "We see this object is something called a **\"FeatureLayer\"**. We can explore the help on this object to see just what we can do with this kind of thing. Note also, however, the *FeatureLayer* object is a subset of the *Layer* object, and thus some of the operations of the Layer object will apply to the FeatureLayer object as well. So, we'd want to investigate the documentation on that object too. (In code speak, this is called *inheritance*: FeatureLayers inherit properies and methods from the Layer object...)\n",
    "\n",
    "→ More info on the ArcGIS `layer` object: https://esri.github.io/arcgis-python-api/apidoc/html/arcgis.gis.toc.html#layer<br>\n",
    "→ More info on the ArcGIS `FeatureLayer` object: https://esri.github.io/arcgis-python-api/apidoc/html/arcgis.features.toc.html#featurelayer"
   ]
  },
  {
   "cell_type": "markdown",
   "metadata": {},
   "source": [
    "#### Mapping\n",
    "The ArcGIS Python API has some nice mapping capability. Detailed information is at the link below, but a quick example goes a long way.\n",
    "* https://developers.arcgis.com/python/guide/using-the-map-widget/"
   ]
  },
  {
   "cell_type": "code",
   "execution_count": 10,
   "metadata": {},
   "outputs": [
    {
     "data": {
      "application/vnd.jupyter.widget-view+json": {
       "model_id": "ffe50b14638f429190b285a83a0c6322",
       "version_major": 2,
       "version_minor": 0
      },
      "text/plain": [
       "MapView(layout=Layout(height='400px', width='100%'))"
      ]
     },
     "metadata": {},
     "output_type": "display_data"
    },
    {
     "data": {
      "text/html": [
       "<div class=\"map-static-img-preview-bff798c0-86cb-4a62-afa1-3fb87c6a55d7\"><img src=\"\"></img></div>"
      ],
      "text/plain": [
       "<IPython.core.display.HTML object>"
      ]
     },
     "metadata": {},
     "output_type": "display_data"
    },
    {
     "data": {
      "text/html": [
       "<div class=\"map-html-embed-preview-bff798c0-86cb-4a62-afa1-3fb87c6a55d7\"></div>"
      ],
      "text/plain": [
       "<IPython.core.display.HTML object>"
      ]
     },
     "metadata": {},
     "output_type": "display_data"
    }
   ],
   "source": [
    "#Map the feature layer\n",
    "m = gis.map('Durham, NC') #Create the map object, centered on Durham, NC\n",
    "m.add_layer(tractsLayer)  #Adds the census tracts layer to the map\n",
    "m                         #Displays the map"
   ]
  },
  {
   "cell_type": "code",
   "execution_count": 11,
   "metadata": {},
   "outputs": [
    {
     "data": {
      "application/vnd.jupyter.widget-view+json": {
       "model_id": "db8650e88eb44568b0cfbb1e870ca8f9",
       "version_major": 2,
       "version_minor": 0
      },
      "text/plain": [
       "MapView(layout=Layout(height='400px', width='100%'))"
      ]
     },
     "metadata": {},
     "output_type": "display_data"
    },
    {
     "data": {
      "text/html": [
       "<div class=\"map-static-img-preview-e5b01443-a303-415d-9466-15a5a67e603c\"><img src=\"\"></img></div>"
      ],
      "text/plain": [
       "<IPython.core.display.HTML object>"
      ]
     },
     "metadata": {},
     "output_type": "display_data"
    },
    {
     "data": {
      "text/html": [
       "<div class=\"map-html-embed-preview-e5b01443-a303-415d-9466-15a5a67e603c\"></div>"
      ],
      "text/plain": [
       "<IPython.core.display.HTML object>"
      ]
     },
     "metadata": {},
     "output_type": "display_data"
    }
   ],
   "source": [
    "#Map just Durham records and color by a field value\n",
    "map2 = gis.map('Durham County, NC') #Create the map object, centered on Durham, NC\n",
    "map2.add_layer(tractsLayer,{\"definition_expression\":\"COUNTY='Durham'\", #Filter records for just Durham \n",
    "                            \"renderer\":\"ClassedColorRenderer\",         #Create a color renderer object\n",
    "                            \"field_name\":\"POPULATION\",                 #Color based on the POPULATION field values\n",
    "                            \"opacity\":0.7                              #Lighten the opacity\n",
    "                         })  \n",
    "map2"
   ]
  },
  {
   "cell_type": "markdown",
   "metadata": {},
   "source": [
    "---\n",
    "\n",
    "### Step 5. Explore properties of the FeatureLayer object\n",
    "The [`properties`](https://esri.github.io/arcgis-python-api/apidoc/html/arcgis.features.toc.html#arcgis.features.FeatureLayer.properties) function of the FeatureLayers object returns a dictionary of properties. \n",
    "* Print the entire `properties` object to expose all the properties..."
   ]
  },
  {
   "cell_type": "code",
   "execution_count": 12,
   "metadata": {},
   "outputs": [
    {
     "data": {
      "text/plain": [
       "{\n",
       "  \"currentVersion\": 10.81,\n",
       "  \"id\": 0,\n",
       "  \"name\": \"tracts_trim\",\n",
       "  \"type\": \"Feature Layer\",\n",
       "  \"serviceItemId\": \"db3f9c8728dd44e4ad455e0c27a85eea\",\n",
       "  \"cacheMaxAge\": 3600,\n",
       "  \"displayField\": \"\",\n",
       "  \"description\": \"\",\n",
       "  \"copyrightText\": \"\",\n",
       "  \"defaultVisibility\": true,\n",
       "  \"editingInfo\": {\n",
       "    \"lastEditDate\": 1628026127822\n",
       "  },\n",
       "  \"multiScaleGeometryInfo\": {\n",
       "    \"levels\": [\n",
       "      1,\n",
       "      3,\n",
       "      5,\n",
       "      7,\n",
       "      9,\n",
       "      11,\n",
       "      13\n",
       "    ],\n",
       "    \"generalizationType\": \"DP\"\n",
       "  },\n",
       "  \"relationships\": [],\n",
       "  \"isDataVersioned\": false,\n",
       "  \"hasContingentValuesDefinition\": false,\n",
       "  \"supportsAppend\": true,\n",
       "  \"supportsCalculate\": true,\n",
       "  \"supportsASyncCalculate\": true,\n",
       "  \"supportsTruncate\": true,\n",
       "  \"supportsAttachmentsByUploadId\": true,\n",
       "  \"supportsAttachmentsResizing\": true,\n",
       "  \"supportsRollbackOnFailureParameter\": true,\n",
       "  \"supportsStatistics\": true,\n",
       "  \"supportsExceedsLimitStatistics\": true,\n",
       "  \"supportsAdvancedQueries\": true,\n",
       "  \"supportsValidateSql\": true,\n",
       "  \"supportsCoordinatesQuantization\": true,\n",
       "  \"supportsLayerOverrides\": true,\n",
       "  \"supportsTilesAndBasicQueriesMode\": true,\n",
       "  \"supportsFieldDescriptionProperty\": true,\n",
       "  \"supportsQuantizationEditMode\": true,\n",
       "  \"supportsApplyEditsWithGlobalIds\": false,\n",
       "  \"supportsMultiScaleGeometry\": true,\n",
       "  \"supportsReturningQueryGeometry\": true,\n",
       "  \"hasGeometryProperties\": true,\n",
       "  \"geometryProperties\": {\n",
       "    \"shapeAreaFieldName\": \"Shape__Area\",\n",
       "    \"shapeLengthFieldName\": \"Shape__Length\",\n",
       "    \"units\": \"esriMeters\"\n",
       "  },\n",
       "  \"advancedQueryCapabilities\": {\n",
       "    \"supportsPagination\": true,\n",
       "    \"supportsQueryAttachmentsCountOnly\": true,\n",
       "    \"supportsPaginationOnAggregatedQueries\": true,\n",
       "    \"supportsQueryRelatedPagination\": true,\n",
       "    \"supportsQueryWithDistance\": true,\n",
       "    \"supportsReturningQueryExtent\": true,\n",
       "    \"supportsStatistics\": true,\n",
       "    \"supportsOrderBy\": true,\n",
       "    \"supportsDistinct\": true,\n",
       "    \"supportsQueryWithResultType\": true,\n",
       "    \"supportsSqlExpression\": true,\n",
       "    \"supportsAdvancedQueryRelated\": true,\n",
       "    \"supportsCountDistinct\": true,\n",
       "    \"supportsPercentileStatistics\": true,\n",
       "    \"supportsLod\": true,\n",
       "    \"supportsQueryWithLodSR\": false,\n",
       "    \"supportedLodTypes\": [\n",
       "      \"geohash\"\n",
       "    ],\n",
       "    \"supportsReturningGeometryCentroid\": true,\n",
       "    \"supportsReturningGeometryProperties\": true,\n",
       "    \"supportsQueryWithDatumTransformation\": true,\n",
       "    \"supportsHavingClause\": true,\n",
       "    \"supportsOutFieldSQLExpression\": true,\n",
       "    \"supportsMaxRecordCountFactor\": true,\n",
       "    \"supportsTopFeaturesQuery\": true,\n",
       "    \"supportsDisjointSpatialRel\": true,\n",
       "    \"supportsQueryWithCacheHint\": true,\n",
       "    \"supportsQueryAnalytic\": true\n",
       "  },\n",
       "  \"advancedEditingCapabilities\": {\n",
       "    \"supportedSqlFormatsInCalculate\": [\n",
       "      \"standard\"\n",
       "    ],\n",
       "    \"supportsAsyncApplyEdits\": true,\n",
       "    \"supportsReturnEditResults\": true\n",
       "  },\n",
       "  \"useStandardizedQueries\": true,\n",
       "  \"geometryType\": \"esriGeometryPolygon\",\n",
       "  \"minScale\": 0,\n",
       "  \"maxScale\": 0,\n",
       "  \"extent\": {\n",
       "    \"xmin\": -19942590.66576945,\n",
       "    \"ymin\": 2023652.7986267817,\n",
       "    \"xmax\": 20012847.17939636,\n",
       "    \"ymax\": 11537127.333547544,\n",
       "    \"spatialReference\": {\n",
       "      \"wkid\": 102100,\n",
       "      \"latestWkid\": 3857\n",
       "    }\n",
       "  },\n",
       "  \"drawingInfo\": {\n",
       "    \"renderer\": {\n",
       "      \"type\": \"simple\",\n",
       "      \"symbol\": {\n",
       "        \"color\": [\n",
       "          255,\n",
       "          190,\n",
       "          232,\n",
       "          126\n",
       "        ],\n",
       "        \"outline\": {\n",
       "          \"color\": [\n",
       "            112,\n",
       "            112,\n",
       "            112,\n",
       "            129\n",
       "          ],\n",
       "          \"width\": 0.75,\n",
       "          \"type\": \"esriSLS\",\n",
       "          \"style\": \"esriSLSSolid\"\n",
       "        },\n",
       "        \"type\": \"esriSFS\",\n",
       "        \"style\": \"esriSFSSolid\"\n",
       "      }\n",
       "    },\n",
       "    \"transparency\": 0\n",
       "  },\n",
       "  \"allowGeometryUpdates\": true,\n",
       "  \"hasAttachments\": false,\n",
       "  \"htmlPopupType\": \"esriServerHTMLPopupTypeNone\",\n",
       "  \"hasMetadata\": true,\n",
       "  \"hasM\": false,\n",
       "  \"hasZ\": false,\n",
       "  \"objectIdField\": \"OBJECTID\",\n",
       "  \"uniqueIdField\": {\n",
       "    \"name\": \"OBJECTID\",\n",
       "    \"isSystemMaintained\": true\n",
       "  },\n",
       "  \"globalIdField\": \"\",\n",
       "  \"typeIdField\": \"\",\n",
       "  \"fields\": [\n",
       "    {\n",
       "      \"name\": \"OBJECTID\",\n",
       "      \"type\": \"esriFieldTypeOID\",\n",
       "      \"alias\": \"OBJECTID\",\n",
       "      \"sqlType\": \"sqlTypeOther\",\n",
       "      \"nullable\": false,\n",
       "      \"editable\": false,\n",
       "      \"domain\": null,\n",
       "      \"defaultValue\": null\n",
       "    },\n",
       "    {\n",
       "      \"name\": \"FIPS\",\n",
       "      \"type\": \"esriFieldTypeString\",\n",
       "      \"alias\": \"FIPS\",\n",
       "      \"sqlType\": \"sqlTypeOther\",\n",
       "      \"length\": 11,\n",
       "      \"nullable\": true,\n",
       "      \"editable\": true,\n",
       "      \"domain\": null,\n",
       "      \"defaultValue\": null\n",
       "    },\n",
       "    {\n",
       "      \"name\": \"COUNTY\",\n",
       "      \"type\": \"esriFieldTypeString\",\n",
       "      \"alias\": \"COUNTY\",\n",
       "      \"sqlType\": \"sqlTypeOther\",\n",
       "      \"length\": 50,\n",
       "      \"nullable\": true,\n",
       "      \"editable\": true,\n",
       "      \"domain\": null,\n",
       "      \"defaultValue\": null\n",
       "    },\n",
       "    {\n",
       "      \"name\": \"STATE\",\n",
       "      \"type\": \"esriFieldTypeString\",\n",
       "      \"alias\": \"STATE\",\n",
       "      \"sqlType\": \"sqlTypeOther\",\n",
       "      \"length\": 2,\n",
       "      \"nullable\": true,\n",
       "      \"editable\": true,\n",
       "      \"domain\": null,\n",
       "      \"defaultValue\": null\n",
       "    },\n",
       "    {\n",
       "      \"name\": \"POPULATION\",\n",
       "      \"type\": \"esriFieldTypeInteger\",\n",
       "      \"alias\": \"POP2020\",\n",
       "      \"sqlType\": \"sqlTypeOther\",\n",
       "      \"nullable\": true,\n",
       "      \"editable\": true,\n",
       "      \"domain\": null,\n",
       "      \"defaultValue\": null\n",
       "    },\n",
       "    {\n",
       "      \"name\": \"SQMI\",\n",
       "      \"type\": \"esriFieldTypeDouble\",\n",
       "      \"alias\": \"SQMI\",\n",
       "      \"sqlType\": \"sqlTypeOther\",\n",
       "      \"nullable\": true,\n",
       "      \"editable\": true,\n",
       "      \"domain\": null,\n",
       "      \"defaultValue\": null\n",
       "    },\n",
       "    {\n",
       "      \"name\": \"Shape__Area\",\n",
       "      \"type\": \"esriFieldTypeDouble\",\n",
       "      \"alias\": \"Shape__Area\",\n",
       "      \"sqlType\": \"sqlTypeDouble\",\n",
       "      \"nullable\": true,\n",
       "      \"editable\": false,\n",
       "      \"domain\": null,\n",
       "      \"defaultValue\": null\n",
       "    },\n",
       "    {\n",
       "      \"name\": \"Shape__Length\",\n",
       "      \"type\": \"esriFieldTypeDouble\",\n",
       "      \"alias\": \"Shape__Length\",\n",
       "      \"sqlType\": \"sqlTypeDouble\",\n",
       "      \"nullable\": true,\n",
       "      \"editable\": false,\n",
       "      \"domain\": null,\n",
       "      \"defaultValue\": null\n",
       "    }\n",
       "  ],\n",
       "  \"indexes\": [\n",
       "    {\n",
       "      \"name\": \"Shape__Area_Index\",\n",
       "      \"fields\": \"Shape__Area\",\n",
       "      \"isAscending\": true,\n",
       "      \"isUnique\": false,\n",
       "      \"description\": \"\"\n",
       "    },\n",
       "    {\n",
       "      \"name\": \"Shape__Length_Index\",\n",
       "      \"fields\": \"Shape__Length\",\n",
       "      \"isAscending\": true,\n",
       "      \"isUnique\": false,\n",
       "      \"description\": \"\"\n",
       "    },\n",
       "    {\n",
       "      \"name\": \"PK__USA_CENS__F4B70D85B7B5CB82\",\n",
       "      \"fields\": \"OBJECTID\",\n",
       "      \"isAscending\": true,\n",
       "      \"isUnique\": true,\n",
       "      \"description\": \"clustered, unique, primary key\"\n",
       "    },\n",
       "    {\n",
       "      \"name\": \"user_256.USA_CENSUS_TRACT_AREAS_ANALYSIS_TRIM_TRACTS_TRIM2_Shape_sidx\",\n",
       "      \"fields\": \"Shape\",\n",
       "      \"isAscending\": false,\n",
       "      \"isUnique\": false,\n",
       "      \"description\": \"Shape Index\"\n",
       "    },\n",
       "    {\n",
       "      \"name\": \"insights_idx_631a1028e106214dc718494b24b4a761\",\n",
       "      \"fields\": \"FIPS\",\n",
       "      \"isAscending\": false,\n",
       "      \"isUnique\": false,\n",
       "      \"description\": \"Insights new Index\"\n",
       "    },\n",
       "    {\n",
       "      \"name\": \"insights_idx_631a1028e106214dc718494b24b4a761\",\n",
       "      \"fields\": \"FIPS\",\n",
       "      \"isAscending\": false,\n",
       "      \"isUnique\": false,\n",
       "      \"description\": \"Insights new Index\"\n",
       "    }\n",
       "  ],\n",
       "  \"dateFieldsTimeReference\": {\n",
       "    \"timeZone\": \"UTC\",\n",
       "    \"respectsDaylightSaving\": false\n",
       "  },\n",
       "  \"preferredTimeReference\": null,\n",
       "  \"types\": [],\n",
       "  \"templates\": [\n",
       "    {\n",
       "      \"name\": \"New Feature\",\n",
       "      \"description\": \"\",\n",
       "      \"drawingTool\": \"esriFeatureEditToolPolygon\",\n",
       "      \"prototype\": {\n",
       "        \"attributes\": {\n",
       "          \"FIPS\": null,\n",
       "          \"COUNTY\": null,\n",
       "          \"STATE\": null,\n",
       "          \"POPULATION\": null,\n",
       "          \"SQMI\": null\n",
       "        }\n",
       "      }\n",
       "    }\n",
       "  ],\n",
       "  \"supportedQueryFormats\": \"JSON, geoJSON, PBF\",\n",
       "  \"supportedAppendFormats\": \"sqlite,gpkg,shapefile,filegdb,featureCollection,geojson,csv,excel\",\n",
       "  \"supportedExportFormats\": \"csv,shapefile,sqlite,gpkg,filegdb,featureCollection,geojson,excel\",\n",
       "  \"supportedContingentValuesFormats\": \"JSON, PBF\",\n",
       "  \"hasStaticData\": true,\n",
       "  \"maxRecordCount\": 2000,\n",
       "  \"standardMaxRecordCount\": 4000,\n",
       "  \"standardMaxRecordCountNoGeometry\": 32000,\n",
       "  \"tileMaxRecordCount\": 4000,\n",
       "  \"maxRecordCountFactor\": 1,\n",
       "  \"capabilities\": \"Query,Extract\"\n",
       "}"
      ]
     },
     "execution_count": 12,
     "metadata": {},
     "output_type": "execute_result"
    }
   ],
   "source": [
    "#Reveal all properties of the feature layer\n",
    "tractsLayer.properties"
   ]
  },
  {
   "cell_type": "markdown",
   "metadata": {},
   "source": [
    "* Print specific properties. What is the `service item ID` of our feature layer? Its `name`? Its `capabilities`? "
   ]
  },
  {
   "cell_type": "code",
   "execution_count": 13,
   "metadata": {},
   "outputs": [
    {
     "name": "stdout",
     "output_type": "stream",
     "text": [
      "Service item ID: db3f9c8728dd44e4ad455e0c27a85eea\n",
      "Name: tracts_trim\n",
      "Capabilities Query,Extract\n"
     ]
    }
   ],
   "source": [
    "#Report the tractsLayer \"itemID\", \"name\", and \"capabilities\"\n",
    "print(\"Service item ID:\", tractsLayer.properties.serviceItemId)\n",
    "print(\"Name:\",tractsLayer.properties.name)\n",
    "print(\"Capabilities\",tractsLayer.properties.capabilities)"
   ]
  },
  {
   "cell_type": "markdown",
   "metadata": {},
   "source": [
    "* The `fields` property returns another dictionary. Save that to a new variable then iterate through each field and print the field's name"
   ]
  },
  {
   "cell_type": "code",
   "execution_count": 14,
   "metadata": {},
   "outputs": [
    {
     "name": "stdout",
     "output_type": "stream",
     "text": [
      "OBJECTID,FIPS,COUNTY,STATE,POPULATION,SQMI,Shape__Area,Shape__Length,"
     ]
    }
   ],
   "source": [
    "#Iterate through all fields and report the field's name\n",
    "for fld in tractsLayer.properties.fields:\n",
    "    print (fld.name, end=',')"
   ]
  },
  {
   "cell_type": "code",
   "execution_count": 15,
   "metadata": {},
   "outputs": [
    {
     "name": "stdout",
     "output_type": "stream",
     "text": [
      "['OBJECTID', 'FIPS', 'COUNTY', 'STATE', 'POPULATION', 'SQMI', 'Shape__Area', 'Shape__Length']\n"
     ]
    }
   ],
   "source": [
    "#Same as above, but using \"list comprehension\"\n",
    "print([fld.name for fld in tractsLayer.properties.fields])"
   ]
  },
  {
   "cell_type": "markdown",
   "metadata": {},
   "source": [
    "### Step 6. Interact with our Feature Layer\n",
    "Moving beyond just the properties, we can apply some of the methods associated with the feature layer. Most methods are for updating data, which we can't do, but we can list unique values and also subset records via a query. \n",
    "\n",
    "* List all the **unique values** in the STATE column in the feature layer"
   ]
  },
  {
   "cell_type": "code",
   "execution_count": 16,
   "metadata": {},
   "outputs": [
    {
     "name": "stdout",
     "output_type": "stream",
     "text": [
      "['AK', 'AL', 'AR', 'AZ', 'CA', 'CO', 'CT', 'DC', 'DE', 'FL', 'GA', 'HI', 'IA', 'ID', 'IL', 'IN', 'KS', 'KY', 'LA', 'MA', 'MD', 'ME', 'MI', 'MN', 'MO', 'MS', 'MT', 'NC', 'ND', 'NE', 'NH', 'NJ', 'NM', 'NV', 'NY', 'OH', 'OK', 'OR', 'PA', 'PR', 'RI', 'SC', 'SD', 'TN', 'TX', 'UT', 'VA', 'VT', 'WA', 'WI', 'WV', 'WY']\n"
     ]
    }
   ],
   "source": [
    "#List the unique values found in the STATE attribute. \n",
    "print(tractsLayer.get_unique_values('STATE'))"
   ]
  },
  {
   "cell_type": "markdown",
   "metadata": {},
   "source": [
    "* **Query** the records in the Feature Layer"
   ]
  },
  {
   "cell_type": "code",
   "execution_count": 17,
   "metadata": {},
   "outputs": [
    {
     "data": {
      "text/plain": [
       "arcgis.features.feature.FeatureSet"
      ]
     },
     "execution_count": 17,
     "metadata": {},
     "output_type": "execute_result"
    }
   ],
   "source": [
    "#Subset records that are in Durham Co (FIPS 37063)\n",
    "fset_Durham = tractsLayer.query(where=\"FIPS LIKE '37063%'\")\n",
    "type(fset_Durham)"
   ]
  },
  {
   "cell_type": "markdown",
   "metadata": {},
   "source": [
    "The object returned is a **Feature Set**. ([Reference on feature set](https://developers.arcgis.com/python/api-reference/arcgis.features.toc.html#featureset))"
   ]
  },
  {
   "cell_type": "code",
   "execution_count": 18,
   "metadata": {},
   "outputs": [
    {
     "data": {
      "text/plain": [
       "60"
      ]
     },
     "execution_count": 18,
     "metadata": {},
     "output_type": "execute_result"
    }
   ],
   "source": [
    "#Display the number of results returned\n",
    "len(fset_Durham)"
   ]
  },
  {
   "cell_type": "markdown",
   "metadata": {},
   "source": [
    "* Create a quick map of the feature set.<br>\n",
    "→ _Note feature sets use the map object's `draw()` function, whereas the feature layer above uses the `.add_layer()` function._ <br>\n",
    "→ _Also note that sometimes you need to run the process twice to show the data..._"
   ]
  },
  {
   "cell_type": "code",
   "execution_count": 19,
   "metadata": {},
   "outputs": [
    {
     "data": {
      "application/vnd.jupyter.widget-view+json": {
       "model_id": "dfb7dedd8bc24dcba3bdba093a7db575",
       "version_major": 2,
       "version_minor": 0
      },
      "text/plain": [
       "MapView(layout=Layout(height='400px', width='100%'))"
      ]
     },
     "metadata": {},
     "output_type": "display_data"
    },
    {
     "data": {
      "text/html": [
       "<div class=\"map-static-img-preview-827812ab-bfa1-4466-8cd8-ce0d8077a133\"><img src=\"\"></img></div>"
      ],
      "text/plain": [
       "<IPython.core.display.HTML object>"
      ]
     },
     "metadata": {},
     "output_type": "display_data"
    },
    {
     "data": {
      "text/html": [
       "<div class=\"map-html-embed-preview-827812ab-bfa1-4466-8cd8-ce0d8077a133\"></div>"
      ],
      "text/plain": [
       "<IPython.core.display.HTML object>"
      ]
     },
     "metadata": {},
     "output_type": "display_data"
    }
   ],
   "source": [
    "#Map the feature set with 'draw'\n",
    "map3 = gis.map('Durham County, NC')\n",
    "map3.basemap = 'osm' #(run map3.basemaps to create a list of basemap options)\n",
    "map3.draw(fset_Durham,popup={'title':'COUNTY','content':'FIPS'})\n",
    "map3"
   ]
  },
  {
   "cell_type": "markdown",
   "metadata": {},
   "source": [
    "* Report the geometry type of the FeatureSet"
   ]
  },
  {
   "cell_type": "code",
   "execution_count": 20,
   "metadata": {},
   "outputs": [
    {
     "data": {
      "text/plain": [
       "'esriGeometryPolygon'"
      ]
     },
     "execution_count": 20,
     "metadata": {},
     "output_type": "execute_result"
    }
   ],
   "source": [
    "#What geometry type is the result\n",
    "fset_Durham.geometry_type"
   ]
  },
  {
   "cell_type": "markdown",
   "metadata": {},
   "source": [
    "* Convert the featureset to a spatial dataframe with its `sdf` command"
   ]
  },
  {
   "cell_type": "code",
   "execution_count": 21,
   "metadata": {},
   "outputs": [
    {
     "data": {
      "text/html": [
       "<div>\n",
       "<style scoped>\n",
       "    .dataframe tbody tr th:only-of-type {\n",
       "        vertical-align: middle;\n",
       "    }\n",
       "\n",
       "    .dataframe tbody tr th {\n",
       "        vertical-align: top;\n",
       "    }\n",
       "\n",
       "    .dataframe thead th {\n",
       "        text-align: right;\n",
       "    }\n",
       "</style>\n",
       "<table border=\"1\" class=\"dataframe\">\n",
       "  <thead>\n",
       "    <tr style=\"text-align: right;\">\n",
       "      <th></th>\n",
       "      <th>OBJECTID</th>\n",
       "      <th>FIPS</th>\n",
       "      <th>COUNTY</th>\n",
       "      <th>STATE</th>\n",
       "      <th>POPULATION</th>\n",
       "      <th>SQMI</th>\n",
       "      <th>Shape__Area</th>\n",
       "      <th>Shape__Length</th>\n",
       "      <th>SHAPE</th>\n",
       "    </tr>\n",
       "  </thead>\n",
       "  <tbody>\n",
       "    <tr>\n",
       "      <th>0</th>\n",
       "      <td>50323</td>\n",
       "      <td>37063002007</td>\n",
       "      <td>Durham</td>\n",
       "      <td>NC</td>\n",
       "      <td>5276</td>\n",
       "      <td>2.29</td>\n",
       "      <td>9.079436e+06</td>\n",
       "      <td>21804.121310</td>\n",
       "      <td>{\"rings\": [[[-8785587.91234778, 4296066.019304...</td>\n",
       "    </tr>\n",
       "    <tr>\n",
       "      <th>1</th>\n",
       "      <td>50324</td>\n",
       "      <td>37063002008</td>\n",
       "      <td>Durham</td>\n",
       "      <td>NC</td>\n",
       "      <td>2989</td>\n",
       "      <td>2.00</td>\n",
       "      <td>7.936685e+06</td>\n",
       "      <td>13795.065017</td>\n",
       "      <td>{\"rings\": [[[-8788560.58235447, 4293979.322355...</td>\n",
       "    </tr>\n",
       "    <tr>\n",
       "      <th>2</th>\n",
       "      <td>50325</td>\n",
       "      <td>37063002018</td>\n",
       "      <td>Durham</td>\n",
       "      <td>NC</td>\n",
       "      <td>10196</td>\n",
       "      <td>6.95</td>\n",
       "      <td>2.752296e+07</td>\n",
       "      <td>22435.279477</td>\n",
       "      <td>{\"rings\": [[[-8791758.23249361, 4294505.458316...</td>\n",
       "    </tr>\n",
       "    <tr>\n",
       "      <th>3</th>\n",
       "      <td>50326</td>\n",
       "      <td>37063002019</td>\n",
       "      <td>Durham</td>\n",
       "      <td>NC</td>\n",
       "      <td>5144</td>\n",
       "      <td>8.03</td>\n",
       "      <td>3.176977e+07</td>\n",
       "      <td>27358.561036</td>\n",
       "      <td>{\"rings\": [[[-8789945.62792339, 4289457.823703...</td>\n",
       "    </tr>\n",
       "    <tr>\n",
       "      <th>4</th>\n",
       "      <td>50327</td>\n",
       "      <td>37063002020</td>\n",
       "      <td>Durham</td>\n",
       "      <td>NC</td>\n",
       "      <td>8195</td>\n",
       "      <td>6.45</td>\n",
       "      <td>2.550575e+07</td>\n",
       "      <td>27346.858266</td>\n",
       "      <td>{\"rings\": [[[-8790611.97248703, 4287403.588183...</td>\n",
       "    </tr>\n",
       "  </tbody>\n",
       "</table>\n",
       "</div>"
      ],
      "text/plain": [
       "   OBJECTID         FIPS  COUNTY STATE  POPULATION  SQMI   Shape__Area  \\\n",
       "0     50323  37063002007  Durham    NC        5276  2.29  9.079436e+06   \n",
       "1     50324  37063002008  Durham    NC        2989  2.00  7.936685e+06   \n",
       "2     50325  37063002018  Durham    NC       10196  6.95  2.752296e+07   \n",
       "3     50326  37063002019  Durham    NC        5144  8.03  3.176977e+07   \n",
       "4     50327  37063002020  Durham    NC        8195  6.45  2.550575e+07   \n",
       "\n",
       "   Shape__Length                                              SHAPE  \n",
       "0   21804.121310  {\"rings\": [[[-8785587.91234778, 4296066.019304...  \n",
       "1   13795.065017  {\"rings\": [[[-8788560.58235447, 4293979.322355...  \n",
       "2   22435.279477  {\"rings\": [[[-8791758.23249361, 4294505.458316...  \n",
       "3   27358.561036  {\"rings\": [[[-8789945.62792339, 4289457.823703...  \n",
       "4   27346.858266  {\"rings\": [[[-8790611.97248703, 4287403.588183...  "
      ]
     },
     "execution_count": 21,
     "metadata": {},
     "output_type": "execute_result"
    }
   ],
   "source": [
    "sdf_Durham = fset_Durham.sdf\n",
    "sdf_Durham.head()"
   ]
  },
  {
   "cell_type": "markdown",
   "metadata": {},
   "source": [
    "### Step 7. Save our data to a local file!\n",
    "* The FeatureSet has another function called `save` which allows us to download our queried results."
   ]
  },
  {
   "cell_type": "code",
   "execution_count": 23,
   "metadata": {},
   "outputs": [
    {
     "data": {
      "text/plain": [
       "'.\\\\DurhamTracts.shp'"
      ]
     },
     "execution_count": 23,
     "metadata": {},
     "output_type": "execute_result"
    }
   ],
   "source": [
    "#Save the selected features to a shapefile\n",
    "fset_Durham.save(save_location='.',out_name='DurhamTracts')"
   ]
  },
  {
   "cell_type": "markdown",
   "metadata": {},
   "source": [
    "---\n",
    "### Success!\n",
    "\n",
    "We just downloaded our own copy of the Durham County Tracts file. We can now grab any feature layer we've found on ArcGIS Online. Well, it's not always this easy as datasets to have some download limits:"
   ]
  },
  {
   "cell_type": "code",
   "execution_count": 24,
   "metadata": {},
   "outputs": [
    {
     "data": {
      "text/plain": [
       "2000"
      ]
     },
     "execution_count": 24,
     "metadata": {},
     "output_type": "execute_result"
    }
   ],
   "source": [
    "tractsLayer.properties.maxRecordCount"
   ]
  },
  {
   "cell_type": "markdown",
   "metadata": {},
   "source": [
    "We can get around that restriction by \"paging\" our download, i.e. downloading in chunks of records, 2000 at a time...\n",
    "\n",
    "For more info on this process, see ESRI's documentation on querying feature layers:<br>\n",
    "https://developers.arcgis.com/python/guide/working-with-feature-layers-and-features/#Querying-feature-layers"
   ]
  },
  {
   "cell_type": "markdown",
   "metadata": {},
   "source": [
    "### Step 8. Analyzing the data here, as a dataframe\n",
    "Of course, why stop there. We have our data in our coding environment. Let's analyze it!\n",
    "\n",
    "To facilitate analyses, we can convert our featureset to (1) a list of [Feature](https://developers.arcgis.com/python/api-reference/arcgis.features.toc.html) objects or (2) to a [spatial dataframe](https://developers.arcgis.com/python/guide/introduction-to-the-spatially-enabled-dataframe/). "
   ]
  },
  {
   "cell_type": "code",
   "execution_count": null,
   "metadata": {},
   "outputs": [],
   "source": [
    "#Get all the tracts for North Carolina\n",
    "nc_tracts = tractsLayer.query(\"STATE = 'NC'\")\n",
    "len(nc_tracts)"
   ]
  },
  {
   "cell_type": "code",
   "execution_count": null,
   "metadata": {},
   "outputs": [],
   "source": [
    "#Convert feature set to a list of features\n",
    "features = nc_tracts.features\n",
    "len(features)"
   ]
  },
  {
   "cell_type": "code",
   "execution_count": null,
   "metadata": {},
   "outputs": [],
   "source": [
    "#Grab the first feature\n",
    "feature= features[0]\n",
    "type(feature)"
   ]
  },
  {
   "cell_type": "code",
   "execution_count": null,
   "metadata": {},
   "outputs": [],
   "source": [
    "feature.get_value('FIPS')"
   ]
  },
  {
   "cell_type": "code",
   "execution_count": null,
   "metadata": {},
   "outputs": [],
   "source": [
    "#Convert the feature set data as a dataframe (takes a moment...)\n",
    "sdf = nc_tracts.sdf\n",
    "sdf.head()"
   ]
  },
  {
   "cell_type": "markdown",
   "metadata": {},
   "source": [
    "* Note the output has a column called \"SHAPE\". These values are ArcGIS API `geometry` objects. "
   ]
  },
  {
   "cell_type": "markdown",
   "metadata": {},
   "source": [
    "#### Analyzing geometry of a single feature"
   ]
  },
  {
   "cell_type": "code",
   "execution_count": null,
   "metadata": {},
   "outputs": [],
   "source": [
    "#Extract the first row as a feature\n",
    "theFeature = sdf.loc[0]\n",
    "theFeature"
   ]
  },
  {
   "cell_type": "code",
   "execution_count": null,
   "metadata": {},
   "outputs": [],
   "source": [
    "#Get the feature's \"SHAPE\" value\n",
    "theGeom = theFeature['SHAPE']\n",
    "type(theGeom)"
   ]
  },
  {
   "cell_type": "code",
   "execution_count": null,
   "metadata": {},
   "outputs": [],
   "source": [
    "#Get the feature's spatial reference (google the WKID to learn more)\n",
    "theGeom.spatial_reference"
   ]
  },
  {
   "cell_type": "code",
   "execution_count": null,
   "metadata": {},
   "outputs": [],
   "source": [
    "#Get the feature's area, in the spatial reference's units\n",
    "theGeom.area"
   ]
  },
  {
   "cell_type": "markdown",
   "metadata": {},
   "source": [
    "https://esri.github.io/arcgis-python-api/apidoc/html/arcgis.geometry.html#arcgis.geometry.Geometry.get_area"
   ]
  },
  {
   "cell_type": "code",
   "execution_count": null,
   "metadata": {},
   "outputs": [],
   "source": [
    "#Get the area, in square miles, measured geodesically\n",
    "theGeom.get_area(method='GEODESIC',units='MILES')"
   ]
  },
  {
   "cell_type": "markdown",
   "metadata": {},
   "source": [
    "#### Analyzing demographics by county"
   ]
  },
  {
   "cell_type": "code",
   "execution_count": null,
   "metadata": {},
   "outputs": [],
   "source": [
    "#Group the data by values in the COUNTY field\n",
    "county_sum = sdf.groupby('COUNTY').sum()"
   ]
  },
  {
   "cell_type": "code",
   "execution_count": null,
   "metadata": {},
   "outputs": [],
   "source": [
    "#Show the first 5 records in the result\n",
    "county_sum['POPULATION'].head()"
   ]
  },
  {
   "cell_type": "code",
   "execution_count": null,
   "metadata": {},
   "outputs": [],
   "source": [
    "#Summarize the county data\n",
    "county_sum['POPULATION'].describe()"
   ]
  },
  {
   "cell_type": "code",
   "execution_count": null,
   "metadata": {},
   "outputs": [],
   "source": [
    "%matplotlib inline\n",
    "county_sum['POPULATION'].sort_values().plot(kind='barh',figsize=(10,20));"
   ]
  },
  {
   "cell_type": "markdown",
   "metadata": {},
   "source": [
    "## Summary\n",
    "The learning curve steepens a bit on figuring out how to work with the data we can retrieve using the ArcGIS Python API. However, with patience, perserverence, and a structured understanding of both how the data are served and of the documentation, you can use the ArcGIS Python API to do a tremendous amount of useful coding. \n",
    "\n",
    "We've focused on data access, analysis, and visualization, but if you browse the notebook examples that ESRI provides, you'll see that the level of work you can use with this library is quite astounding. Furthermore, as GIS (and all computing really) moves from the desktop to the cloud, these types of analysis are likely to dominate the research landscape before too long. "
   ]
  }
 ],
 "metadata": {
  "kernelspec": {
   "display_name": "Python 3",
   "language": "python",
   "name": "python3"
  },
  "language_info": {
   "codemirror_mode": {
    "name": "ipython",
    "version": 3
   },
   "file_extension": ".py",
   "mimetype": "text/x-python",
   "name": "python",
   "nbconvert_exporter": "python",
   "pygments_lexer": "ipython3",
   "version": "3.7.10"
  }
 },
 "nbformat": 4,
 "nbformat_minor": 2
}
