{
 "cells": [
  {
   "cell_type": "markdown",
   "metadata": {},
   "source": [
    "## Searching for an accessing content\n",
    "With our connection to AGOL via the ArcGIS Python API we have access to all its shared content! But to access it, we need a means to locate it and get it into our coding environment. This notebook explores the following: \n",
    "* Searching for AGOL content and handling the search results\n",
    " * In ArcGIS online (review)\n",
    " * Using the ArcGIS Python API\n",
    "* Fetching specific AGOL resources by their resource ID\n",
    "\n",
    "#### Resources\n",
    "* Guide: https://developers.arcgis.com/python/guide/accessing-and-creating-content/"
   ]
  },
  {
   "cell_type": "markdown",
   "metadata": {},
   "source": [
    "#### Example: Searching for Census Data\n",
    "To give context for this lesson, suppose we want to use come census tract data in our code. One route for getting the data we want is to look for it online. Here, we navigate to https://arcgis.com and search for `Census Tracts`. When I checked last, that search returned > 30,000 records! So we'd need to refine our search. If we knew the owner of the dataset, we could add `owner:` to our search. We can also filter by **item type** and even filter for **authoritative** datasets.  "
   ]
  },
  {
   "cell_type": "markdown",
   "metadata": {},
   "source": [
    "---\n",
    "###   Part 1: Searching for content via AGOL (*review*): \n",
    "_First we'll search for objects in ArcGIS Online and familiarize ourselves with various attributes with our results._\n",
    "1. Search [ArcGIS Online](https://arcgis.com) for <u>`Census Tracts Areas`</u> owned by <u>`esri_dm`</u>, filtering results for <u>feature layers</u> only.\n",
    " * The final search term should be: `census tract areas owner:esri_dm type:feature`\n",
    "\n",
    "\n",
    "2. Open the [link](https://www.arcgis.com/home/item.html?id=db3f9c8728dd44e4ad455e0c27a85eea) to the one result.\n",
    " * Note the URL for the link, particularly the *id* returned: `db3f9c8728dd44e4ad455e0c27a85eea`\n",
    " \n",
    " \n",
    "3. Scroll to the bottom of the page. On the right side, find the [URL](https://services.arcgis.com/P3ePLMYs2RVChkJx/arcgis/rest/services/USA_Census_Tract_Areas_analysis_trim/FeatureServer) associated with the feature layer and open it in your browser. \n",
    " * Note this page also reveals the item's ID. \n",
    " * This page shows that the feature layer service serves just the one layer: `tracts_trim`.\n",
    " \n",
    " \n",
    "4. Open the [link](https://services.arcgis.com/P3ePLMYs2RVChkJx/ArcGIS/rest/services/USA_Census_Tract_Areas_analysis_trim/FeatureServer/0) to the `tracts_trim` feature layer's *REST endpoint*.\n",
    " * What attributes are associated with this layer? \n",
    " * How many records can be retrieved at one time from this service? \n",
    "\n",
    "\n",
    "5. At the bottom of the page, find the link associated with the [Query](https://services.arcgis.com/P3ePLMYs2RVChkJx/ArcGIS/rest/services/USA_Census_Tract_Areas_analysis_trim/FeatureServer/0/query) interface for this layer.\n",
    "\n",
    "\n",
    "6. In the query interface enter `FIPS LIKE '37063%'` as the *Where clause*. Then scroll to the bottom and click the `Query(GET)` button. \n",
    " * How many records are returned? \n",
    " * Modify the query to return output format as `GeoJSON` and click `Query(GET)` again. \n",
    " \n",
    "_What we just did was use AGOL to find a layer, access its REST endpoint, and use the REST api to query Census tracts for Durham County, setting the output to be a GeoJSON object. We can copy these results into a text file and convert the GeoJSON to a feature class using ArcGIS Pro's [JSON To Features](https://pro.arcgis.com/en/pro-app/tool-reference/conversion/json-to-features.htm) tool or through Python pakages like Fiona or Geopandas (more on that later...)_\n",
    "\n",
    "---"
   ]
  },
  {
   "cell_type": "markdown",
   "metadata": {},
   "source": [
    "### Part 2: Working with content via the ArcGIS Python API\n",
    "The ArcGIS Python APIs [GIS module](https://developers.arcgis.com/python/guide/the-gis-module/) allows us to execute the same process above, but from within our coding environment instead of our web browser. Here we explore how that's done, using the opportunity to better understand the structure and working of this powerful API.  \n",
    "\n",
    "#### Step 1. Importing the API's GIS module\n",
    "To access the API, we need to import it. We aren't accessing any 'premium' content here, so we can authenticate \"anonymously\":"
   ]
  },
  {
   "cell_type": "code",
   "execution_count": 1,
   "metadata": {},
   "outputs": [],
   "source": [
    "#Import the GIS object and authenticate using your ArcGIS Pro credentials\n",
    "from arcgis import GIS\n",
    "gis = GIS('home')"
   ]
  },
  {
   "cell_type": "markdown",
   "metadata": {},
   "source": [
    "#### Step 2. Use the GIS module's [Content Manager](https://developers.arcgis.com/python/api-reference/arcgis.gis.toc.html#contentmanager) to search AGOL\n",
    "Instead of clicking on web links in our browser, we'll use one of the helper objects access via the GIS module, namely the [Content Manager](https://developers.arcgis.com/python/api-reference/arcgis.gis.toc.html#contentmanager), to execute our search. This is done by passing our search terms and our item type filters to the `gis.content.search()` command. ([link to help](https://developers.arcgis.com/python/api-reference/arcgis.gis.toc.html#arcgis.gis.ContentManager.search))\n",
    "\n",
    "The code below searches for all \"Census Tracts\" items and reveals how many items are returned. Here we cap it at 1000 items. We could easily increase the cap, but you get the idea. The `outside_org=True` is not really necessary here as we are using an anonymous login to the GIS object. However, if we signed into, say, our dukeuniv.maps.arcgis.com account when authenticating the GIS object, we'd need the `outside_org = True` statement to extend our search to content not created by fellow Dukies. "
   ]
  },
  {
   "cell_type": "code",
   "execution_count": 2,
   "metadata": {},
   "outputs": [
    {
     "data": {
      "text/plain": [
       "[<Item title:\"USA_Census_Tract_Areas_with_Inspection_Count\" type:Feature Layer Collection owner:mgs57_dukeuniv>,\n",
       " <Item title:\"DevelopedLandinARA_HiNFIPClaims\" type:Map Image Layer owner:kjd15_dukeuniv>]"
      ]
     },
     "execution_count": 2,
     "metadata": {},
     "output_type": "execute_result"
    }
   ],
   "source": [
    "#Use the API's content' helper to search for feature layers with keyword Census and owner is \"esri_dm\"\n",
    "results = gis.content.search(query='Census Tracts Areas')\n",
    "#Show the list of results returned\n",
    "results"
   ]
  },
  {
   "cell_type": "markdown",
   "metadata": {},
   "source": [
    "_Just two results?? What happened??_\n",
    "\n",
    "We have to modify our search to (1) explore records outside of Duke and (2) return more than the default of 10 records.\n",
    "* Run the code first with the `max_items` option commented, then with it uncommented. "
   ]
  },
  {
   "cell_type": "code",
   "execution_count": 6,
   "metadata": {},
   "outputs": [
    {
     "data": {
      "text/plain": [
       "1000"
      ]
     },
     "execution_count": 6,
     "metadata": {},
     "output_type": "execute_result"
    }
   ],
   "source": [
    "#Use the API's content' helper to search for feature layers with keyword Census and owner is \"esri_dm\"\n",
    "results = gis.content.search(query='Census Tracts Areas',\n",
    "                             outside_org=True,\n",
    "                             max_items=1000)\n",
    "                            \n",
    "#Show the number of results returned\n",
    "len(results)"
   ]
  },
  {
   "cell_type": "markdown",
   "metadata": {},
   "source": [
    "Now we'll amend the query to limit our results just to Census Tract *feature layers* that are *owned by \"esri_dm\"*. \n",
    "* Alter the code cell below filling in the same query string we used before for the `query=` option.\n",
    "* Next, specify the item_type to be a `Feature Layer`. "
   ]
  },
  {
   "cell_type": "code",
   "execution_count": 7,
   "metadata": {},
   "outputs": [
    {
     "data": {
      "text/plain": [
       "[<Item title:\"USA Census Tract Areas\" type:Feature Layer Collection owner:esri_dm>]"
      ]
     },
     "execution_count": 7,
     "metadata": {},
     "output_type": "execute_result"
    }
   ],
   "source": [
    "#Use the API's content' helper to search for feature layers with keyword Census and owner is \"esri_dm\"\n",
    "results = gis.content.search(query='Census Tracts Areas owner:esri_dm',\n",
    "                             item_type='Feature Layer',\n",
    "                             outside_org=True)\n",
    "#Show the complete list of results returned\n",
    "results"
   ]
  },
  {
   "cell_type": "markdown",
   "metadata": {},
   "source": [
    "Just the one item returned - same as when we searched via the Web! Phew...\n",
    "\n",
    "``` ► More info and examples on searching:``` https://developers.arcgis.com/python/guide/accessing-and-creating-content/\n",
    "\n",
    "---\n",
    " "
   ]
  },
  {
   "cell_type": "markdown",
   "metadata": {},
   "source": [
    "### Step 3. Exploring the item(s) returned.\n",
    "Just as we did with our browser-based searched results, we'll drill into the item obtained through our search.\n",
    "* First, we'll extract the one item as its own variable - `tractsItem` - and then examine that object various ways..."
   ]
  },
  {
   "cell_type": "code",
   "execution_count": 8,
   "metadata": {},
   "outputs": [],
   "source": [
    "#Extract the one returned item in the list to the \"tractsItem\" variable\n",
    "tractsItem = results[0]"
   ]
  },
  {
   "cell_type": "code",
   "execution_count": 9,
   "metadata": {},
   "outputs": [
    {
     "data": {
      "text/plain": [
       "arcgis.gis.Item"
      ]
     },
     "execution_count": 9,
     "metadata": {},
     "output_type": "execute_result"
    }
   ],
   "source": [
    "#Reveal the Python data type of this object\n",
    "type(tractsItem)"
   ]
  },
  {
   "cell_type": "code",
   "execution_count": 10,
   "metadata": {},
   "outputs": [
    {
     "data": {
      "text/plain": [
       "'Feature Service'"
      ]
     },
     "execution_count": 10,
     "metadata": {},
     "output_type": "execute_result"
    }
   ],
   "source": [
    "#Reveal the arcgis type of this object: A feature service\n",
    "tractsItem.type"
   ]
  },
  {
   "cell_type": "code",
   "execution_count": 11,
   "metadata": {},
   "outputs": [
    {
     "data": {
      "text/html": [
       "<div class=\"item_container\" style=\"height: auto; overflow: hidden; border: 1px solid #cfcfcf; border-radius: 2px; background: #f6fafa; line-height: 1.21429em; padding: 10px;\">\n",
       "                    <div class=\"item_left\" style=\"width: 210px; float: left;\">\n",
       "                       <a href='https://www.arcgis.com//home/item.html?id=db3f9c8728dd44e4ad455e0c27a85eea' target='_blank'>\n",
       "                        <img src='data:image/png;base64,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' width='200' height='133' class=\"itemThumbnail\">\n",
       "                       </a>\n",
       "                    </div>\n",
       "\n",
       "                    <div class=\"item_right\"     style=\"float: none; width: auto; overflow: hidden;\">\n",
       "                        <a href='https://www.arcgis.com//home/item.html?id=db3f9c8728dd44e4ad455e0c27a85eea' target='_blank'><b>USA Census Tract Areas</b>\n",
       "                        </a>\n",
       "                        <br/>U.S. Census Tracts provides the boundaries and 2010 U.S. Census demographic information for the Census tracts of the United States. The boundaries are consistent with the county, state, and block group datasets.<img src='https://www.arcgis.com//home/js/jsapi/esri/css/images/item_type_icons/featureshosted16.png' style=\"vertical-align:middle;\">Feature Layer Collection by esri_dm\n",
       "                        <br/>Last Modified: August 18, 2021\n",
       "                        <br/>3 comments, 895,560 views\n",
       "                    </div>\n",
       "                </div>\n",
       "                "
      ],
      "text/plain": [
       "<Item title:\"USA Census Tract Areas\" type:Feature Layer Collection owner:esri_dm>"
      ]
     },
     "execution_count": 11,
     "metadata": {},
     "output_type": "execute_result"
    }
   ],
   "source": [
    "#We can display the formatted AGOL info on that item:\n",
    "tractsItem"
   ]
  },
  {
   "cell_type": "code",
   "execution_count": 12,
   "metadata": {},
   "outputs": [],
   "source": [
    "#Show help documentation on the \"arcgis.gis.Item\" object\n",
    "tractsItem?"
   ]
  },
  {
   "cell_type": "markdown",
   "metadata": {},
   "source": [
    "Or, more detailed documentation on ArcGIS Item object is here:<br>\n",
    "→ https://developers.arcgis.com/python/api-reference/arcgis.gis.toc.html#item\n",
    "\n",
    "* Open this link and view the functions associated with the object. \n",
    " * What does the `content_status` function reveal? \n",
    " * The `id` function? \n",
    " * The `download` function??\n",
    "_Note that not all these functions will work on this item. Some of them are for modifying the actual feature layer hosted on AGOL, which we don't have privileges to do._ \n",
    "\n",
    "\n",
    "* Next, reveal the `id` associated with the item -- and compare that to the one you found by seaching AGOL in your browser? "
   ]
  },
  {
   "cell_type": "code",
   "execution_count": 13,
   "metadata": {},
   "outputs": [
    {
     "data": {
      "text/plain": [
       "'db3f9c8728dd44e4ad455e0c27a85eea'"
      ]
     },
     "execution_count": 13,
     "metadata": {},
     "output_type": "execute_result"
    }
   ],
   "source": [
    "#Reveal the id associated with this item\n",
    "tractsItem.id"
   ]
  },
  {
   "cell_type": "markdown",
   "metadata": {},
   "source": [
    "We'll dig deeper into how to work with these items in a subsequent workbook. For now, let's return to how to fetch data into our coding environment, but with more direct methods."
   ]
  },
  {
   "cell_type": "markdown",
   "metadata": {},
   "source": [
    "---\n",
    "###  Fetching an AGOL dataset by its item ID\n",
    "When we searched for our census data via ArcGIS Online in a web browser, we noted the unique ID contained in [the item's resource page](https://www.arcgis.com/home/item.html?id=db3f9c8728dd44e4ad455e0c27a85eea): `db3f9c8728dd44e4ad455e0c27a85eea`. \n",
    "\n",
    "You may have also noticed that the item's ID is listed in the item's [ESRI REST endpoint page](https://services.arcgis.com/P3ePLMYs2RVChkJx/arcgis/rest/services/USA_Census_Tract_Areas_analysis_trim/FeatureServer).\n",
    "\n",
    "And lastly, we can extract that number after we've accessed via ArcGIS Python search methods shown above. \n",
    "\n",
    "These item IDs are useful to know because **we can use that to access the item directly**, i.e., without having to search for it. "
   ]
  },
  {
   "cell_type": "code",
   "execution_count": 14,
   "metadata": {},
   "outputs": [
    {
     "data": {
      "text/html": [
       "<div class=\"item_container\" style=\"height: auto; overflow: hidden; border: 1px solid #cfcfcf; border-radius: 2px; background: #f6fafa; line-height: 1.21429em; padding: 10px;\">\n",
       "                    <div class=\"item_left\" style=\"width: 210px; float: left;\">\n",
       "                       <a href='https://www.arcgis.com//home/item.html?id=db3f9c8728dd44e4ad455e0c27a85eea' target='_blank'>\n",
       "                        <img src='data:image/png;base64,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' width='200' height='133' class=\"itemThumbnail\">\n",
       "                       </a>\n",
       "                    </div>\n",
       "\n",
       "                    <div class=\"item_right\"     style=\"float: none; width: auto; overflow: hidden;\">\n",
       "                        <a href='https://www.arcgis.com//home/item.html?id=db3f9c8728dd44e4ad455e0c27a85eea' target='_blank'><b>USA Census Tract Areas</b>\n",
       "                        </a>\n",
       "                        <br/>U.S. Census Tracts provides the boundaries and 2010 U.S. Census demographic information for the Census tracts of the United States. The boundaries are consistent with the county, state, and block group datasets.<img src='https://www.arcgis.com//home/js/jsapi/esri/css/images/item_type_icons/featureshosted16.png' style=\"vertical-align:middle;\">Feature Layer Collection by esri_dm\n",
       "                        <br/>Last Modified: August 18, 2021\n",
       "                        <br/>3 comments, 895,568 views\n",
       "                    </div>\n",
       "                </div>\n",
       "                "
      ],
      "text/plain": [
       "<Item title:\"USA Census Tract Areas\" type:Feature Layer Collection owner:esri_dm>"
      ]
     },
     "execution_count": 14,
     "metadata": {},
     "output_type": "execute_result"
    }
   ],
   "source": [
    "#Extract the Census tracts layer directly, via its ID\n",
    "other_tractsItem = gis.content.get('db3f9c8728dd44e4ad455e0c27a85eea')\n",
    "other_tractsItem"
   ]
  },
  {
   "cell_type": "markdown",
   "metadata": {},
   "source": [
    "## Summary\n",
    "Accessing content begins specifying the resource that you want to access. You can do this a number of ways: \n",
    "* Searching for the resource in ArcGIS Online and recording its item ID\n",
    "* Searching for the resource using the ArcGIS Python API\n",
    "* Directly from its feature ID, if known"
   ]
  }
 ],
 "metadata": {
  "kernelspec": {
   "display_name": "Python 3",
   "language": "python",
   "name": "python3"
  },
  "language_info": {
   "codemirror_mode": {
    "name": "ipython",
    "version": 3
   },
   "file_extension": ".py",
   "mimetype": "text/x-python",
   "name": "python",
   "nbconvert_exporter": "python",
   "pygments_lexer": "ipython3",
   "version": "3.7.10"
  }
 },
 "nbformat": 4,
 "nbformat_minor": 4
}
